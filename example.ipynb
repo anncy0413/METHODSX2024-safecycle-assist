{
 "cells": [
  {
   "cell_type": "markdown",
   "metadata": {},
   "source": [
    "# Installing Dependencies"
   ]
  },
  {
   "cell_type": "code",
   "execution_count": null,
   "metadata": {},
   "outputs": [],
   "source": [
    "!pip install -r requirements.txt"
   ]
  },
  {
   "cell_type": "markdown",
   "metadata": {},
   "source": [
    "# Importing Required Libraries"
   ]
  },
  {
   "cell_type": "code",
   "execution_count": 1,
   "metadata": {},
   "outputs": [],
   "source": [
    "import os\n",
    "import sys\n",
    "\n",
    "import numpy as np\n",
    "import pandas as pd\n",
    "\n",
    "import osmnx as ox\n",
    "import networkx as nx\n",
    "\n",
    "from langchain_openai import ChatOpenAI\n",
    "from langchain_core.prompts import ChatPromptTemplate, MessagesPlaceholder\n",
    "from langchain.agents.format_scratchpad.openai_tools import format_to_openai_tool_messages\n",
    "from langchain.agents.output_parsers.openai_tools import OpenAIToolsAgentOutputParser\n",
    "from langchain.agents import AgentExecutor\n",
    "from langchain.tools import BaseTool\n",
    "\n",
    "from typing import Type\n",
    "from pydantic import BaseModel, Field"
   ]
  },
  {
   "cell_type": "markdown",
   "metadata": {},
   "source": [
    "# Auxiliar Functions Definition"
   ]
  },
  {
   "cell_type": "code",
   "execution_count": 2,
   "metadata": {},
   "outputs": [],
   "source": [
    "def haversine(lat1: float, lon1: float, lat2: float, lon2: float) -> float:\n",
    "    \"\"\"\n",
    "        Compute the haversine distance between two points in latitude and longitude.\n",
    "        The haversine formula determines the great-circle distance between two points on a sphere given their longitudes and latitudes.\n",
    "\n",
    "        Parameters\n",
    "        ----------\n",
    "        lat1, lon1, lat2, lon2 : float\n",
    "            Latitude and longitude of the two points in decimal degrees.\n",
    "\n",
    "        Returns\n",
    "        -------\n",
    "        distance : float\n",
    "            Distance between the two points in kilometers.\n",
    "    \"\"\"\n",
    "    lat1, lon1, lat2, lon2 = map(np.radians, [lat1, lon1, lat2, lon2])\n",
    "\n",
    "    dlat = lat2 - lat1\n",
    "    dlon = lon2 - lon1\n",
    "\n",
    "    a = np.sin(dlat/2)**2 + np.cos(lat1) * np.cos(lat2) * np.sin(dlon/2)**2\n",
    "    c = 2 * np.arcsin(np.sqrt(a)) \n",
    "    r = 6371 # Earth radius in kilometers\n",
    "\n",
    "    return c * r\n",
    "\n",
    "def find_nearest_risk_point(lat: float, lon: float, data: pd.DataFrame) -> int:\n",
    "    \"\"\"\n",
    "        Find the nearest risk level point to a given latitude and longitude.\n",
    "\n",
    "        Parameters\n",
    "        ----------\n",
    "        lat, lon : float\n",
    "            Latitude and longitude of the point.\n",
    "        data : pd.DataFrame\n",
    "            DataFrame containing the risk level points with columns 'lat', 'lon' and 'RL'.\n",
    "\n",
    "        Returns\n",
    "        -------\n",
    "        RL : int\n",
    "            Risk level of the nearest point.\n",
    "    \"\"\"\n",
    "    distances = data.apply(lambda row: haversine(lat, lon, row['lat'], row['lon']), axis=1)\n",
    "\n",
    "    nearest_index = distances.idxmin()\n",
    "    \n",
    "    return data.loc[nearest_index, 'RL']"
   ]
  },
  {
   "cell_type": "markdown",
   "metadata": {},
   "source": [
    "# LangChain Tools Definition"
   ]
  },
  {
   "cell_type": "code",
   "execution_count": 3,
   "metadata": {},
   "outputs": [],
   "source": [
    "class RiskPointInput(BaseModel):\n",
    "    lat: float = Field(..., title=\"Latitude\", description=\"Latitude of the point\")\n",
    "    lon: float = Field(..., title=\"Longitude\", description=\"Longitude of the point\")\n",
    "\n",
    "class RiskPointTool(BaseTool):\n",
    "    name = \"RiskPointTool\"\n",
    "    description = \"A tool that computes the risk of a point in the map\"\n",
    "    args_schema: Type[BaseModel] = RiskPointInput\n",
    "\n",
    "    def _run(\n",
    "        self,\n",
    "        lat: float,\n",
    "        lon: float\n",
    "    ) -> str:\n",
    "        data = pd.read_csv('risk_map.csv', sep=\";\")\n",
    "        risk_lane = find_nearest_risk_point(lat, lon, data)\n",
    "\n",
    "        return risk_lane"
   ]
  },
  {
   "cell_type": "code",
   "execution_count": 4,
   "metadata": {},
   "outputs": [],
   "source": [
    "class RiskTripInput(BaseModel):\n",
    "    start_lat: float = Field(..., title=\"Latitude of the starting point\", description=\"Latitude of the starting point\")\n",
    "    start_lon: float = Field(..., title=\"Longitude of the starting point\", description=\"Longitude of the starting point\")\n",
    "    end_lat: float = Field(..., title=\"Latitude of the ending point\", description=\"Latitude of the ending point\")\n",
    "    end_lon: float = Field(..., title=\"Longitude of the ending point\", description=\"Longitude of the ending point\")\n",
    "\n",
    "class RiskTripTool(BaseTool):\n",
    "    name = \"RiskTripTool\"\n",
    "    description = \"A tool that computes the risk of a trip in the map\"\n",
    "    args_schema: Type[BaseModel] = RiskTripInput\n",
    "\n",
    "    def _run(\n",
    "        self,\n",
    "        start_lat: float,\n",
    "        start_lon: float,\n",
    "        end_lat: float,\n",
    "        end_lon: float\n",
    "    ) -> str:\n",
    "        data = pd.read_csv('risk_map.csv', sep=\";\")\n",
    "        place_name = \"Porto, Portugal\"\n",
    "        graph = ox.graph_from_place(place_name, network_type='all')\n",
    "\n",
    "        start = (start_lat, start_lon)\n",
    "        end = (end_lat, end_lon)\n",
    "\n",
    "        start_node = ox.distance.nearest_nodes(graph, start[1], start[0])\n",
    "        end_node = ox.distance.nearest_nodes(graph, end[1], end[0])\n",
    "\n",
    "        route = nx.shortest_path(graph, start_node, end_node, weight='length')\n",
    "\n",
    "        risk = {\n",
    "            1: 0,\n",
    "            2: 0,\n",
    "            3: 0\n",
    "        }\n",
    "\n",
    "        for node in route:\n",
    "            node_data = graph.nodes[node]\n",
    "            risk_lane = find_nearest_risk_point(node_data['y'], node_data['x'], data)\n",
    "            risk[risk_lane] += 1\n",
    "\n",
    "        sum_risk = risk[1] + risk[2] + risk[3]\n",
    "\n",
    "        return f\"Low risk percentage: {risk[1]/sum_risk*100:.2f}%, Medium risk percentage: {risk[2]/sum_risk*100:.2f}%, High risk percentage: {risk[3]/sum_risk*100:.2f}%\""
   ]
  },
  {
   "cell_type": "markdown",
   "metadata": {},
   "source": [
    "# Set OpenAI API Key"
   ]
  },
  {
   "cell_type": "code",
   "execution_count": 6,
   "metadata": {},
   "outputs": [],
   "source": [
    "openai_api_key = input(\"Please enter your OpenAI API key: \")"
   ]
  },
  {
   "cell_type": "markdown",
   "metadata": {},
   "source": [
    "# Creating Agent"
   ]
  },
  {
   "cell_type": "markdown",
   "metadata": {},
   "source": [
    "## Definig the Model"
   ]
  },
  {
   "cell_type": "code",
   "execution_count": 12,
   "metadata": {},
   "outputs": [],
   "source": [
    "chat_open_ai = ChatOpenAI(model=\"gpt-3.5-turbo-0125\", temperature=0, openai_api_key=openai_api_key)"
   ]
  },
  {
   "cell_type": "markdown",
   "metadata": {},
   "source": [
    "## Instantiating the Tools"
   ]
  },
  {
   "cell_type": "code",
   "execution_count": null,
   "metadata": {},
   "outputs": [],
   "source": [
    "risk_point_tool = RiskPointTool()\n",
    "risk_trip_tool = RiskTripTool()\n",
    "\n",
    "tools = [\n",
    "    risk_point_tool,\n",
    "    risk_trip_tool\n",
    "]"
   ]
  },
  {
   "cell_type": "markdown",
   "metadata": {},
   "source": [
    "## Creating the Prompt"
   ]
  },
  {
   "cell_type": "code",
   "execution_count": null,
   "metadata": {},
   "outputs": [],
   "source": [
    "prompt_template = ChatPromptTemplate.from_messages(\n",
    "    [\n",
    "        (\n",
    "            \"system\",\n",
    "            \"\"\"\n",
    "            You are an agent responsible for assisting users in computing cycling routes based on risk levels. Your task is to analyze the computed risk levels and provide comprehensive and well-tailored responses to user inquiries.\n",
    "\n",
    "            Risk Levels:\n",
    "            - (1) Low Risk: Routes that are safe for most cyclists, including beginners. These routes are well within the city's emergency mitigation capacity, with close proximity to emergency services.\n",
    "            - (2) Medium Risk: Routes that may have moderate distance from emergency services. These routes are suitable for experienced cyclists who are comfortable with occasional risks and may require emergency services less readily available.\n",
    "            - (3) High Risk: Routes that are far from emergency services and other emergency-related amenities. These routes involve significant hazards and are recommended only for very experienced cyclists or those seeking a challenge.\n",
    "\n",
    "            Main Instructions:\n",
    "            1. Input Interpretation:\n",
    "            - Receive the computed risk level (1, 2, or 3) from the risk analysis system.\n",
    "            - Understand the context and specifics of each risk level as detailed above, focusing on the city's emergency mitigation capacity.\n",
    "\n",
    "            2. Response Generation:\n",
    "            - Provide clear and detailed descriptions of the route based on the given risk level.\n",
    "            - Include relevant safety tips and precautions specific to the risk level.\n",
    "            - Suggest the user to look for safer alternative routes if the computed risk level is considered high (the route passes througout many high-risk areas).\n",
    "\n",
    "            3. Example Responses:\n",
    "            - Low Risk (1): \"The route from point A to point B is considered low risk, making it ideal for beginners. The path is within close proximity to emergency services. Ensure you stay on designated cycling lanes for maximum safety.\"\n",
    "            - Medium Risk (2): \"The route from point A to point B has a medium risk level, suitable for experienced cyclists. While not immediately near emergency services, they are accessible with some delay. Be cautious at intersections and consider wearing high-visibility gear.\"\n",
    "            - High Risk (3): \"The route from point A to point B is high risk, recommended only for very experienced cyclists. The path includes heavy traffic and is far from emergency services. For a safer alternative, consider another route and provide the information that I will assist you in evaluating it to assure you stay safe.\"\n",
    "\n",
    "            4. General Tips:\n",
    "            - Always remind users to wear appropriate safety gear, such as helmets and reflective clothing - reinforce additional gear if the route has high risk.\n",
    "            - Encourage users to check weather conditions before starting their journey.\n",
    "            - Advise users to carry a basic repair kit and stay hydrated.\n",
    "            - Suggest carrying a mobile phone and sharing route details with someone in case of an emergency.\n",
    "\n",
    "            By following these guidelines, you will ensure that users receive precise, helpful, and contextually appropriate information for their cycling routes. Your goal is to enhance their cycling experience while prioritizing their safety based on the city's emergency mitigation capacity.\n",
    "            \"\"\"\n",
    "        ),\n",
    "        (\n",
    "            \"user\",\n",
    "            \"{input}\"\n",
    "        ),\n",
    "        MessagesPlaceholder(variable_name=\"agent_scratchpad\"),\n",
    "    ]\n",
    ")"
   ]
  },
  {
   "cell_type": "markdown",
   "metadata": {},
   "source": [
    "## Binding the Tools to the Model"
   ]
  },
  {
   "cell_type": "code",
   "execution_count": null,
   "metadata": {},
   "outputs": [],
   "source": [
    "llm_with_tools = chat_open_ai.bind_tools(tools)"
   ]
  },
  {
   "cell_type": "markdown",
   "metadata": {},
   "source": [
    "## Creating the Chain"
   ]
  },
  {
   "cell_type": "code",
   "execution_count": null,
   "metadata": {},
   "outputs": [],
   "source": [
    "agent = (\n",
    "    {\n",
    "        \"input\": lambda x: x[\"input\"],\n",
    "        \"agent_scratchpad\": lambda x: format_to_openai_tool_messages(x[\"intermediate_steps\"]),\n",
    "    }\n",
    "    | prompt_template\n",
    "    | llm_with_tools\n",
    "    | OpenAIToolsAgentOutputParser()\n",
    ")"
   ]
  },
  {
   "cell_type": "markdown",
   "metadata": {},
   "source": [
    "## Creating the Agent Executor"
   ]
  },
  {
   "cell_type": "code",
   "execution_count": 13,
   "metadata": {},
   "outputs": [],
   "source": [
    "agent_executor = AgentExecutor(agent=agent, tools=tools, verbose=False)"
   ]
  },
  {
   "cell_type": "markdown",
   "metadata": {},
   "source": [
    "# Running"
   ]
  },
  {
   "cell_type": "markdown",
   "metadata": {},
   "source": [
    "## Example 1"
   ]
  },
  {
   "cell_type": "code",
   "execution_count": 8,
   "metadata": {},
   "outputs": [],
   "source": [
    "user_input = \"What is the risk of a cycling trip starting from point with latitude 41.1246 and longitude -8.5717, ending at latitude 41.1570 and longitude -8.6393?\""
   ]
  },
  {
   "cell_type": "code",
   "execution_count": 9,
   "metadata": {},
   "outputs": [
    {
     "name": "stdout",
     "output_type": "stream",
     "text": [
      "The computed risk levels for the cycling trip from the starting point at latitude 41.1246 and longitude -8.5717 to the ending point at latitude 41.1570 and longitude -8.6393 are as follows:\n",
      "- Low Risk: 53.79%\n",
      "- Medium Risk: 30.30%\n",
      "- High Risk: 15.91%\n",
      "\n",
      "Based on these risk percentages, the trip is categorized as having a low risk level. It is considered safe for most cyclists, including beginners. The path is within close proximity to emergency services, ensuring a safer journey. Remember to stay on designated cycling lanes for maximum safety and enjoy your ride!\n"
     ]
    }
   ],
   "source": [
    "result = list(\n",
    "    agent_executor.stream(\n",
    "        {\"input\": user_input}\n",
    "    )\n",
    ")\n",
    "\n",
    "print(result[-1][\"messages\"][0].content)"
   ]
  },
  {
   "cell_type": "markdown",
   "metadata": {},
   "source": [
    "## Example 2"
   ]
  },
  {
   "cell_type": "code",
   "execution_count": 10,
   "metadata": {},
   "outputs": [],
   "source": [
    "user_input = \"I am planning a cycling trip that will cross the point at latitude 41.1246 and longitude -8.5717. What is the risk associate to this zone?\""
   ]
  },
  {
   "cell_type": "code",
   "execution_count": 11,
   "metadata": {},
   "outputs": [
    {
     "name": "stdout",
     "output_type": "stream",
     "text": [
      "The point at latitude 41.1246 and longitude -8.5717 is associated with a high risk level. This indicates that the area is far from emergency services and involves significant hazards. It is recommended only for very experienced cyclists or those seeking a challenge.\n",
      "\n",
      "Considering the high risk level, I suggest looking for a safer alternative route to ensure your safety during the cycling trip. If you provide me with the starting and ending points of your trip, I can assist you in evaluating the risk level of the entire route and help you find a safer path.\n"
     ]
    }
   ],
   "source": [
    "result = list(\n",
    "    agent_executor.stream(\n",
    "        {\"input\": user_input}\n",
    "    )\n",
    ")\n",
    "\n",
    "print(result[-1][\"messages\"][0].content)"
   ]
  }
 ],
 "metadata": {
  "kernelspec": {
   "display_name": "venv-methodx-risk-agent",
   "language": "python",
   "name": "python3"
  },
  "language_info": {
   "codemirror_mode": {
    "name": "ipython",
    "version": 3
   },
   "file_extension": ".py",
   "mimetype": "text/x-python",
   "name": "python",
   "nbconvert_exporter": "python",
   "pygments_lexer": "ipython3",
   "version": "3.12.1"
  }
 },
 "nbformat": 4,
 "nbformat_minor": 2
}
